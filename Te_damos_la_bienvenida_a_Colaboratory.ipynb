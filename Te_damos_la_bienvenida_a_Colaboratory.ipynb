{
  "cells": [
    {
      "cell_type": "markdown",
      "metadata": {
        "id": "view-in-github",
        "colab_type": "text"
      },
      "source": [
        "<a href=\"https://colab.research.google.com/github/luixcode/final-project-app/blob/Daurin-20220573/Te_damos_la_bienvenida_a_Colaboratory.ipynb\" target=\"_parent\"><img src=\"https://colab.research.google.com/assets/colab-badge.svg\" alt=\"Open In Colab\"/></a>"
      ]
    },
    {
      "cell_type": "markdown",
      "source": [
        "EJERCICIO PYTHON II - Análisis de historia olímpica"
      ],
      "metadata": {
        "id": "FF25TFh0qPDq"
      }
    },
    {
      "cell_type": "markdown",
      "source": [
        "1.1 Lectura de Archivos con Pandas"
      ],
      "metadata": {
        "id": "IiHiQe9YsKtR"
      }
    },
    {
      "cell_type": "code",
      "source": [
        "import pandas as pd\n",
        "\n",
        "# Carga cada archivo CSV desde la carpeta sample_data\n",
        "df1 = pd.read_csv('/content/sample_data/olympic_athletes.csv')\n",
        "df2 = pd.read_csv('/content/sample_data/olympic_hosts.csv')\n",
        "df3 = pd.read_csv('/content/sample_data/olympic_medals.csv')\n",
        "\n",
        "# Carga el archivo de tipo pickle\n",
        "df4 = pd.read_pickle('/content/sample_data/olympic_results.pkl')\n",
        "\n",
        "# Muestra las primeras filas de cada DataFrame\n",
        "print(\"Archivo 1: olympic_athletes\")\n",
        "print(df1.head())\n",
        "print(\"\\nArchivo 2: olympic_hosts\")\n",
        "print(df2.head())\n",
        "print(\"\\nArchivo 3: olympic_medals\")\n",
        "print(df3.head())\n",
        "print(\"\\nArchivo 4: olympic_results (pickle)\")\n",
        "print(df4.head())"
      ],
      "metadata": {
        "id": "zAygXXPHr65U"
      },
      "execution_count": null,
      "outputs": []
    },
    {
      "cell_type": "markdown",
      "source": [
        "1.2 análisis de la calidad de datos (cantidad de celdas nulas, cantidad de celdas mal formateadas, entre otros):"
      ],
      "metadata": {
        "id": "nqLIu2yesXQk"
      }
    },
    {
      "cell_type": "markdown",
      "source": [],
      "metadata": {
        "id": "Dm2L8Mvkr9ho"
      }
    },
    {
      "cell_type": "code",
      "source": [
        "# Análisis de celdas nulas para cada DataFrame\n",
        "def analizar_nulos(archivo):\n",
        "    nulos = archivo.isnull().sum()  # Cuenta las celdas nulas en cada columna\n",
        "    porcentaje_nulos = (nulos / len(archivo)) * 100  # Calcula el porcentaje de nulos\n",
        "    return pd.DataFrame({'Nulos': nulos, 'Porcentaje': porcentaje_nulos})\n",
        "\n",
        "# Aplicar el análisis a cada DataFrame\n",
        "analisis_nulos_archivo1 = analizar_nulos(df1)\n",
        "analisis_nulos_archivo2 = analizar_nulos(df2)\n",
        "analisis_nulos_archivo3 = analizar_nulos(df3)\n",
        "analisis_nulos_archivo4 = analizar_nulos(df4)\n",
        "\n",
        "# Mostrar resultados\n",
        "print(\"Análisis de celdas nulas para olympic_athletes:\")\n",
        "print(analisis_nulos_archivo1)\n",
        "print(\"\\nAnálisis de celdas nulas para olympic_hosts:\")\n",
        "print(analisis_nulos_archivo2)\n",
        "print(\"\\nAnálisis de celdas nulas para olympic_medals:\")\n",
        "print(analisis_nulos_archivo3)\n",
        "print(\"\\nAnálisis de celdas nulas para olympic_results:\")\n",
        "print(analisis_nulos_archivo4)"
      ],
      "metadata": {
        "id": "7zCMiuxGspT6"
      },
      "execution_count": null,
      "outputs": []
    }
  ],
  "metadata": {
    "colab": {
      "name": "Te damos la bienvenida a Colaboratory",
      "toc_visible": true,
      "provenance": [],
      "include_colab_link": true
    },
    "kernelspec": {
      "display_name": "Python 3",
      "name": "python3"
    }
  },
  "nbformat": 4,
  "nbformat_minor": 0
}